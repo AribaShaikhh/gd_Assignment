{
 "cells": [
  {
   "cell_type": "markdown",
   "id": "d89f1725",
   "metadata": {},
   "source": [
    "1 what is difference between set and dictionary"
   ]
  },
  {
   "cell_type": "code",
   "execution_count": 2,
   "id": "a7f33a4c",
   "metadata": {},
   "outputs": [
    {
     "name": "stdout",
     "output_type": "stream",
     "text": [
      "{False, 1, 'ariba'}\n"
     ]
    }
   ],
   "source": [
    "#set\n",
    "a={1,\"ariba\",False}\n",
    "print(a)"
   ]
  },
  {
   "cell_type": "code",
   "execution_count": 4,
   "id": "50589d06",
   "metadata": {},
   "outputs": [
    {
     "name": "stdout",
     "output_type": "stream",
     "text": [
      "{'a': 10, 'b': 20, 'c': 30}\n"
     ]
    }
   ],
   "source": [
    "#dict\n",
    "D={\"a\":10,\"b\":20,\"c\":30}\n",
    "print(D)"
   ]
  },
  {
   "cell_type": "markdown",
   "id": "349fe717",
   "metadata": {},
   "source": [
    "2write the program to print the following patern.\n",
    "*\n",
    "**\n",
    "***"
   ]
  },
  {
   "cell_type": "code",
   "execution_count": 5,
   "id": "6579db6d",
   "metadata": {},
   "outputs": [
    {
     "name": "stdout",
     "output_type": "stream",
     "text": [
      "* \n",
      "* * \n",
      "* * * \n"
     ]
    }
   ],
   "source": [
    "for i in range(3):\n",
    "    for j in range(i+1):\n",
    "        print(\"*\",end = \" \")\n",
    "    print()"
   ]
  },
  {
   "cell_type": "markdown",
   "id": "6bf00ccb",
   "metadata": {},
   "source": [
    "3.write a program to print n natural no in assending order using a while loop "
   ]
  },
  {
   "cell_type": "code",
   "execution_count": 12,
   "id": "3eab8f95",
   "metadata": {},
   "outputs": [
    {
     "name": "stdout",
     "output_type": "stream",
     "text": [
      "enter naturalNumber: 10\n",
      "List of Natural Numbers from 10 to 1 in Reverse Order : \n",
      "10  9  8  7  6  5  4  3  2  1  "
     ]
    }
   ],
   "source": [
    "number = int(input(\"enter naturalNumber: \"))\n",
    "i = number\n",
    "\n",
    "print(\"List of Natural Numbers from {0} to 1 in Reverse Order : \".format(number)) \n",
    "\n",
    "while ( i >= 1):\n",
    "    print (i, end = '  ')\n",
    "    i = i - 1"
   ]
  },
  {
   "cell_type": "markdown",
   "id": "e232e486",
   "metadata": {},
   "source": [
    "4.write a program in python to swap between two numbers without using the third variable"
   ]
  },
  {
   "cell_type": "code",
   "execution_count": 21,
   "id": "6775202b",
   "metadata": {},
   "outputs": [],
   "source": [
    "def swap_numbers(a, b):\n",
    "    print(\"Before swapping: a =\", a, \"b =\", b)\n",
    "\n",
    "    a = a + b\n",
    "    b = a - b\n",
    "    a = a - b\n",
    "\n",
    "    print(\"After swapping: a =\", a, \"b =\", b)\n",
    "\n"
   ]
  },
  {
   "cell_type": "code",
   "execution_count": 24,
   "id": "5bbfe2d8",
   "metadata": {},
   "outputs": [
    {
     "name": "stdout",
     "output_type": "stream",
     "text": [
      "Before swapping: a = 5 b = 10\n",
      "After swapping: a = 10 b = 5\n"
     ]
    }
   ],
   "source": [
    "num1 = 5\n",
    "num2 = 10\n",
    "swap_numbers(num1,num2)"
   ]
  },
  {
   "cell_type": "markdown",
   "id": "39bb3930",
   "metadata": {},
   "source": [
    "5.how to create a function with default argument in python"
   ]
  },
  {
   "cell_type": "code",
   "execution_count": 19,
   "id": "f7b7e937",
   "metadata": {},
   "outputs": [
    {
     "name": "stdout",
     "output_type": "stream",
     "text": [
      "ARIBA Mark studies in Fifth Standard\n",
      "ARIBA MUSKAN studies in ZIA Standard\n",
      "ARIBA MUSKAN studies in Fifth Standard\n",
      "ARIBA MUSKAN studies in Fifth Standard\n"
     ]
    }
   ],
   "source": [
    "def student(firstname, lastname ='Mark', standard ='Fifth'):\n",
    " \n",
    "     print(firstname, lastname, 'studies in', standard, 'Standard')\n",
    "\n",
    "student('ARIBA')                        \n",
    "student('ARIBA', 'MUSKAN', 'ZIA')     \n",
    "student('ARIBA', 'MUSKAN')                 \n",
    "student('ARIBA', 'MUSKAN')  "
   ]
  },
  {
   "cell_type": "markdown",
   "id": "ac9d952f",
   "metadata": {},
   "source": [
    "6.display a square of number from 1 to 10 using list comprehension"
   ]
  },
  {
   "cell_type": "code",
   "execution_count": 26,
   "id": "0848e4cd",
   "metadata": {},
   "outputs": [
    {
     "name": "stdout",
     "output_type": "stream",
     "text": [
      "[1, 4, 9, 16, 25, 36, 49, 64, 81, 100]\n"
     ]
    }
   ],
   "source": [
    "square=[i**2 for i in range(1,11)]\n",
    "print(square)"
   ]
  },
  {
   "cell_type": "markdown",
   "id": "bd2d88d7",
   "metadata": {},
   "source": [
    "7.what is polymorphism?expalin with example (class)"
   ]
  },
  {
   "cell_type": "code",
   "execution_count": 28,
   "id": "31fb2d4c",
   "metadata": {},
   "outputs": [
    {
     "name": "stdout",
     "output_type": "stream",
     "text": [
      "Vegetable\n",
      "green\n",
      "Fruit\n",
      "Red\n"
     ]
    }
   ],
   "source": [
    "class Tomato(): \n",
    "     def type(self): \n",
    "       print(\"Vegetable\") \n",
    "     def color(self):\n",
    "       print(\"green\") \n",
    "class Apple(): \n",
    "     def type(self): \n",
    "       print(\"Fruit\") \n",
    "     def color(self): \n",
    "       print(\"Red\") \n",
    "      \n",
    "def func(obj): \n",
    "       obj.type() \n",
    "       obj.color()\n",
    "    \n",
    "obj_tomato = Tomato() \n",
    "obj_apple = Apple() \n",
    "func(obj_tomato) \n",
    "func(obj_apple)    "
   ]
  },
  {
   "cell_type": "markdown",
   "id": "69b5fb9e",
   "metadata": {},
   "source": [
    "8. Explain conditional probability with example?"
   ]
  },
  {
   "cell_type": "markdown",
   "id": "77ff85f6",
   "metadata": {},
   "source": [
    " For example, given that you drew a red card, what’s the probability that it’s a four (p(four|red))=2/26=1/13. So out of the 26 red cards (given a red card), there are two fours so 2/26=1/13."
   ]
  },
  {
   "cell_type": "markdown",
   "id": "547e9922",
   "metadata": {},
   "source": [
    "9. Explain Emphirical rule  with diagram ."
   ]
  },
  {
   "cell_type": "markdown",
   "id": "862ea8fa",
   "metadata": {},
   "source": [
    "the emphirical rules allow you to determine the praortion of values that fall with in certain distance from the mean() more than this below."
   ]
  },
  {
   "cell_type": "markdown",
   "id": "e56a31f7",
   "metadata": {},
   "source": [
    "10.What is Hypothesis Testing ? What is the Role of p value in HT?"
   ]
  },
  {
   "cell_type": "markdown",
   "id": "e87736a4",
   "metadata": {},
   "source": [
    "p-value is the probability of null hypothesis being true. used to check the null hypothesis is reject or not neans hypothesis testing is normally distribution."
   ]
  },
  {
   "cell_type": "markdown",
   "id": "edecdb60",
   "metadata": {},
   "source": [
    "Q2) List all the probability distributions with example?       5*1 = 5\n",
    " "
   ]
  },
  {
   "cell_type": "markdown",
   "id": "c75eb5ae",
   "metadata": {},
   "source": [
    "1.NORMAL DISTRIBUTION\n",
    "eg.height of peoples\n",
    "2UNFORM DISTRIBUTION\n",
    "eg.rolling a dice\n",
    "3BINOMIAL DISTRIBUTION\n",
    "eg. number of spam recive.\n",
    "4POISSON DISTRIBUTION\n",
    "eg=the number of emergency calls recorded at a hosptal\n",
    "5EXPONENTIAL DISTRIBUTION\n",
    "eg.the life of car"
   ]
  },
  {
   "cell_type": "code",
   "execution_count": null,
   "id": "ac3ae4b4",
   "metadata": {},
   "outputs": [],
   "source": []
  }
 ],
 "metadata": {
  "kernelspec": {
   "display_name": "Python 3 (ipykernel)",
   "language": "python",
   "name": "python3"
  },
  "language_info": {
   "codemirror_mode": {
    "name": "ipython",
    "version": 3
   },
   "file_extension": ".py",
   "mimetype": "text/x-python",
   "name": "python",
   "nbconvert_exporter": "python",
   "pygments_lexer": "ipython3",
   "version": "3.10.9"
  }
 },
 "nbformat": 4,
 "nbformat_minor": 5
}
